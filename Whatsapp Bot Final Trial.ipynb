{
 "cells": [
  {
   "cell_type": "code",
   "execution_count": 1,
   "metadata": {},
   "outputs": [
    {
     "name": "stderr",
     "output_type": "stream",
     "text": [
      "[nltk_data] Downloading package punkt to\n",
      "[nltk_data]     C:\\Users\\ABHINAV\\AppData\\Roaming\\nltk_data...\n",
      "[nltk_data]   Package punkt is already up-to-date!\n",
      "[nltk_data] Downloading package stopwords to\n",
      "[nltk_data]     C:\\Users\\ABHINAV\\AppData\\Roaming\\nltk_data...\n",
      "[nltk_data]   Package stopwords is already up-to-date!\n",
      "[nltk_data] Downloading package perluniprops to\n",
      "[nltk_data]     C:\\Users\\ABHINAV\\AppData\\Roaming\\nltk_data...\n",
      "[nltk_data]   Package perluniprops is already up-to-date!\n",
      "[nltk_data] Downloading package nonbreaking_prefixes to\n",
      "[nltk_data]     C:\\Users\\ABHINAV\\AppData\\Roaming\\nltk_data...\n",
      "[nltk_data]   Package nonbreaking_prefixes is already up-to-date!\n",
      "2019-09-16 22:14:51.668 INFO in 'deeppavlov.models.preprocessors.squad_preprocessor'['squad_preprocessor'] at line 310: SquadVocabEmbedder: loading saved tokens vocab from C:\\Users\\ABHINAV\\.deeppavlov\\models\\squad_model\\emb\\vocab_embedder.pckl\n",
      "2019-09-16 22:14:52.400 INFO in 'deeppavlov.models.preprocessors.squad_preprocessor'['squad_preprocessor'] at line 310: SquadVocabEmbedder: loading saved chars vocab from C:\\Users\\ABHINAV\\.deeppavlov\\models\\squad_model\\emb\\char_vocab_embedder.pckl\n",
      "Using TensorFlow backend.\n",
      "2019-09-16 22:15:01.687 INFO in 'deeppavlov.core.layers.tf_layers'['tf_layers'] at line 614: \n",
      "Warning! tf.contrib.cudnn_rnn.CudnnCompatibleGRUCell is used. It is okay for inference mode, but if you train your model with this cell it could NOT be used with tf.contrib.cudnn_rnn.CudnnGRUCell later. \n"
     ]
    },
    {
     "name": "stdout",
     "output_type": "stream",
     "text": [
      "WARNING:tensorflow:From E:\\Anaconda\\envs\\mypython3\\lib\\site-packages\\deeppavlov\\core\\layers\\tf_layers.py:808: calling reverse_sequence (from tensorflow.python.ops.array_ops) with seq_dim is deprecated and will be removed in a future version.\n",
      "Instructions for updating:\n",
      "seq_dim is deprecated, use seq_axis instead\n",
      "WARNING:tensorflow:From E:\\Anaconda\\envs\\mypython3\\lib\\site-packages\\tensorflow\\python\\util\\deprecation.py:454: calling reverse_sequence (from tensorflow.python.ops.array_ops) with batch_dim is deprecated and will be removed in a future version.\n",
      "Instructions for updating:\n",
      "batch_dim is deprecated, use batch_axis instead\n"
     ]
    },
    {
     "name": "stderr",
     "output_type": "stream",
     "text": [
      "2019-09-16 22:15:11.139 INFO in 'deeppavlov.core.layers.tf_layers'['tf_layers'] at line 614: \n",
      "Warning! tf.contrib.cudnn_rnn.CudnnCompatibleGRUCell is used. It is okay for inference mode, but if you train your model with this cell it could NOT be used with tf.contrib.cudnn_rnn.CudnnGRUCell later. \n",
      "2019-09-16 22:15:11.435 INFO in 'deeppavlov.core.layers.tf_layers'['tf_layers'] at line 614: \n",
      "Warning! tf.contrib.cudnn_rnn.CudnnCompatibleGRUCell is used. It is okay for inference mode, but if you train your model with this cell it could NOT be used with tf.contrib.cudnn_rnn.CudnnGRUCell later. \n",
      "2019-09-16 22:15:11.648 INFO in 'deeppavlov.core.layers.tf_layers'['tf_layers'] at line 614: \n",
      "Warning! tf.contrib.cudnn_rnn.CudnnCompatibleGRUCell is used. It is okay for inference mode, but if you train your model with this cell it could NOT be used with tf.contrib.cudnn_rnn.CudnnGRUCell later. \n"
     ]
    },
    {
     "name": "stdout",
     "output_type": "stream",
     "text": [
      "WARNING:tensorflow:From E:\\Anaconda\\envs\\mypython3\\lib\\site-packages\\deeppavlov\\models\\squad\\squad.py:211: softmax_cross_entropy_with_logits (from tensorflow.python.ops.nn_ops) is deprecated and will be removed in a future version.\n",
      "Instructions for updating:\n",
      "\n",
      "Future major versions of TensorFlow will allow gradients to flow\n",
      "into the labels input on backprop by default.\n",
      "\n",
      "See @{tf.nn.softmax_cross_entropy_with_logits_v2}.\n",
      "\n"
     ]
    },
    {
     "name": "stderr",
     "output_type": "stream",
     "text": [
      "2019-09-16 22:15:52.347 INFO in 'deeppavlov.core.models.tf_model'['tf_model'] at line 52: [loading model from C:\\Users\\ABHINAV\\.deeppavlov\\models\\squad_model\\model]\n"
     ]
    },
    {
     "name": "stdout",
     "output_type": "stream",
     "text": [
      "INFO:tensorflow:Restoring parameters from C:\\Users\\ABHINAV\\.deeppavlov\\models\\squad_model\\model\n"
     ]
    }
   ],
   "source": [
    "from deeppavlov import build_model, configs\n",
    "\n",
    "model = build_model(configs.squad.squad, download=False)"
   ]
  },
  {
   "cell_type": "code",
   "execution_count": 5,
   "metadata": {},
   "outputs": [],
   "source": [
    "from selenium import webdriver as wd\n",
    "from selenium.webdriver.common.keys import Keys\n",
    "from PIL import Image\n",
    "import time\n",
    "\n",
    "def getQr(browser):\n",
    "    print('\\n--Wait for qr image--\\n')\n",
    "    browser.save_screenshot('qr.png')\n",
    "    Image.open('qr.png').show()\n",
    "    tem = input('Press enter if scanned.')\n",
    "\n",
    "def start():\n",
    "    options = wd.FirefoxOptions()\n",
    "    options.headless = True\n",
    "    driver = wd.Firefox(options=options, executable_path=r'geckodriver')\n",
    "    driver.get('https://web.whatsapp.com')\n",
    "    return driver\n",
    "\n",
    "def sNS(name,driver):\n",
    "    s_bar = driver.find_element_by_tag_name('input')\n",
    "    s_bar.click()\n",
    "    s_bar.send_keys(name)\n",
    "    time.sleep(1)\n",
    "    #pane_side = driver.find_element_by_id('pane-side')\n",
    "    c_name = driver.find_element_by_xpath('//*[@id=\"pane-side\"]/div/div/div/div').get_attribute('class')\n",
    "    l = driver.find_elements_by_class_name(c_name)\n",
    "    tem = 0\n",
    "    f = l[0]\n",
    "    for i in l:\n",
    "        k = i.value_of_css_property('transform')\n",
    "        tem2 = int(k[k.rfind(',')+2:-1])\n",
    "        if  tem2 < tem and tem2 > 0:\n",
    "            f = i\n",
    "    i.click()\n",
    "##    f=0\n",
    "##    for i in l:\n",
    "##        if name.lower() in str(i.get_attribute('title')).lower():\n",
    "##            i.click()\n",
    "##            f=1\n",
    "##            break\n",
    "##    if f is 0:\n",
    "##        print('Contact not found.')\n",
    "\n",
    "def recentSent(brow):\n",
    "    main = brow.find_element_by_id('main')\n",
    "    l = main.find_elements_by_class_name('message-out')\n",
    "    xl = [i.get_attribute('innerText') for i in l]\n",
    "    return xl\n",
    "\n",
    "def recentRcvd(brow):\n",
    "    main = brow.find_element_by_id('main')\n",
    "    l = main.find_elements_by_class_name('message-in')\n",
    "    xl = [i.get_attribute('innerText') for i in l]\n",
    "    return xl[len(xl)-2]\n",
    "\n",
    "def lastSent(brow):\n",
    "    main = brow.find_element_by_id('main')\n",
    "    l = main.find_elements_by_class_name('message-out')\n",
    "    try:\n",
    "        return l[-1].get_attribute('innerText')\n",
    "    except:\n",
    "        return ''\n",
    "\n",
    "def lastRcvd(brow):\n",
    "    main = brow.find_element_by_id('main')\n",
    "    l = main.find_elements_by_class_name('message-in')\n",
    "    try:\n",
    "        return l[-1].get_attribute('innerText')\n",
    "    except:\n",
    "        return ''\n",
    "\n",
    "def untilNew(brow,last):\n",
    "    last_chk = lastRcvd(brow)\n",
    "    if last_chk == last:\n",
    "        while last_chk == last:\n",
    "            time.sleep(2)\n",
    "            last_chk = lastRcvd(brow)\n",
    "    log = open('log.txt','a+')\n",
    "    log.write('[rcvd '+last_chk.split('\\n')[1]+']'+last_chk.split('\\n')[0]+'\\n')\n",
    "    log.close()\n",
    "    return last_chk\n",
    "\n",
    "def sendMsg(msg,driver):\n",
    "    input_area = driver.find_element_by_xpath(\"//*[contains(text(), 'Type a message')]\")\n",
    "    input_area = input_area.find_element_by_xpath(\"following-sibling::*\")\n",
    "    input_area.click()\n",
    "    input_area.send_keys(msg,Keys.ENTER)\n",
    "    msg = lastSent(driver)\n",
    "    log = open('log.txt','a+')\n",
    "    log.write('[sent '+msg.split('\\n')[1]+']'+msg.split('\\n')[0]+'\\n')\n",
    "    log.close()\n",
    "\n",
    "def quit(brow):\n",
    "    brow.quit()\n",
    "##browser = start()\n",
    "##getQr(browser)\n",
    "##namae = input('Enter contact name: ').lower()\n",
    "##sNS(namae, browser)\n",
    "##print('last sent: ',lastSent(browser))\n",
    "##print('last recieved: ',lastRcvd(browser))\n",
    "##sendMsg('new test',browser)\n",
    "##print('last sent: ',lastSent(browser))\n",
    "##i=1\n",
    "##quit(browser)\n",
    "##while True:\n",
    "##    l = lastRcvd(browser)\n",
    "##    print('main:',l)\n",
    "##    s = untilNew(browser,l)\n",
    "##    sendMsg(str(i),browser)\n",
    "##    i+=1\n",
    "\n"
   ]
  },
  {
   "cell_type": "code",
   "execution_count": null,
   "metadata": {},
   "outputs": [],
   "source": [
    "model(['DeepPavlov is library for NLP and dialog systems.'], ['What is DeepPavlov?'])"
   ]
  },
  {
   "cell_type": "code",
   "execution_count": 6,
   "metadata": {},
   "outputs": [],
   "source": [
    "browser = start()"
   ]
  },
  {
   "cell_type": "code",
   "execution_count": 7,
   "metadata": {},
   "outputs": [
    {
     "name": "stdout",
     "output_type": "stream",
     "text": [
      "\n",
      "--Wait for qr image--\n",
      "\n",
      "Press enter if scanned.\n"
     ]
    }
   ],
   "source": [
    "getQr(browser)"
   ]
  },
  {
   "cell_type": "code",
   "execution_count": 8,
   "metadata": {},
   "outputs": [
    {
     "name": "stdout",
     "output_type": "stream",
     "text": [
      "Enter contact name: Amma Jio\n"
     ]
    }
   ],
   "source": [
    "name = input('Enter contact name: ').lower()"
   ]
  },
  {
   "cell_type": "code",
   "execution_count": 9,
   "metadata": {},
   "outputs": [],
   "source": [
    "sNS(name, browser)"
   ]
  },
  {
   "cell_type": "code",
   "execution_count": 10,
   "metadata": {},
   "outputs": [
    {
     "name": "stdout",
     "output_type": "stream",
     "text": [
      "last sent:  5\n",
      "10:11 PM\n"
     ]
    }
   ],
   "source": [
    "print('last sent: ',lastSent(browser))"
   ]
  },
  {
   "cell_type": "code",
   "execution_count": 11,
   "metadata": {},
   "outputs": [
    {
     "name": "stdout",
     "output_type": "stream",
     "text": [
      "last recieved:  5\n",
      "10:11 PM\n"
     ]
    }
   ],
   "source": [
    "print('last recieved: ',lastRcvd(browser))"
   ]
  },
  {
   "cell_type": "code",
   "execution_count": 8,
   "metadata": {},
   "outputs": [],
   "source": [
    "sendMsg('Hello',browser)"
   ]
  },
  {
   "cell_type": "code",
   "execution_count": 12,
   "metadata": {},
   "outputs": [
    {
     "name": "stdout",
     "output_type": "stream",
     "text": [
      "last sent:  5\n",
      "10:11 PM\n"
     ]
    }
   ],
   "source": [
    "print('last sent: ',lastSent(browser))"
   ]
  },
  {
   "cell_type": "code",
   "execution_count": null,
   "metadata": {},
   "outputs": [],
   "source": [
    "i=1"
   ]
  },
  {
   "cell_type": "code",
   "execution_count": null,
   "metadata": {},
   "outputs": [
    {
     "name": "stdout",
     "output_type": "stream",
     "text": [
      "main: 11:25 PM\n",
      "main: hii\n",
      "10:10 PM\n"
     ]
    }
   ],
   "source": [
    "while True:\n",
    "    l = lastRcvd(browser)\n",
    "    print('main:',l)\n",
    "    s = untilNew(browser,l)\n",
    "    sendMsg(str(i),browser)\n",
    "    i+=1\n",
    "\n",
    "    "
   ]
  },
  {
   "cell_type": "code",
   "execution_count": 13,
   "metadata": {},
   "outputs": [],
   "source": [
    "l=lastRcvd(browser)"
   ]
  },
  {
   "cell_type": "code",
   "execution_count": 14,
   "metadata": {},
   "outputs": [
    {
     "data": {
      "text/plain": [
       "'5\\n10:11 PM'"
      ]
     },
     "execution_count": 14,
     "metadata": {},
     "output_type": "execute_result"
    }
   ],
   "source": [
    "l"
   ]
  },
  {
   "cell_type": "code",
   "execution_count": 15,
   "metadata": {},
   "outputs": [],
   "source": [
    "s=untilNew(browser,l)"
   ]
  },
  {
   "cell_type": "code",
   "execution_count": 16,
   "metadata": {},
   "outputs": [
    {
     "data": {
      "text/plain": [
       "'hello\\n10:18 PM'"
      ]
     },
     "execution_count": 16,
     "metadata": {},
     "output_type": "execute_result"
    }
   ],
   "source": [
    "s"
   ]
  },
  {
   "cell_type": "code",
   "execution_count": 17,
   "metadata": {},
   "outputs": [],
   "source": [
    "q=s.split('\\n')"
   ]
  },
  {
   "cell_type": "code",
   "execution_count": 18,
   "metadata": {},
   "outputs": [
    {
     "data": {
      "text/plain": [
       "['hello', '10:18 PM']"
      ]
     },
     "execution_count": 18,
     "metadata": {},
     "output_type": "execute_result"
    }
   ],
   "source": [
    "q"
   ]
  },
  {
   "cell_type": "code",
   "execution_count": 19,
   "metadata": {},
   "outputs": [
    {
     "data": {
      "text/plain": [
       "'hello'"
      ]
     },
     "execution_count": 19,
     "metadata": {},
     "output_type": "execute_result"
    }
   ],
   "source": [
    "q[0]"
   ]
  },
  {
   "cell_type": "code",
   "execution_count": 20,
   "metadata": {},
   "outputs": [],
   "source": [
    "query=q[0]"
   ]
  },
  {
   "cell_type": "code",
   "execution_count": 22,
   "metadata": {},
   "outputs": [],
   "source": [
    "import PyPDF2 \n",
    "  \n",
    "# creating a pdf file object \n",
    "pdfFileObj = open('CIR2018000017.pdf', 'rb') \n",
    "  \n",
    "# creating a pdf reader object \n",
    "pdfReader = PyPDF2.PdfFileReader(pdfFileObj) \n",
    "  \n",
    "# printing number of pages in pdf file \n",
    "#print(pdfReader.numPages) \n",
    "  \n",
    "# creating a page object \n",
    "pageObj = pdfReader.getPage(0) \n",
    "  \n",
    "# extracting text from page \n",
    "#print(pageObj.extractText()) \n",
    "  \n",
    "# closing the pdf file object \n",
    "\n",
    "\n",
    "para=pageObj.extractText()\n",
    "\n",
    "import re\n",
    "page=re.sub(' +', ' ',para)\n",
    "\n",
    "doclines = page.splitlines()\n",
    "doc_rejoined = ''.join(doclines)\n",
    "pdfFileObj.close() \n",
    "raw = doc_rejoined"
   ]
  },
  {
   "cell_type": "code",
   "execution_count": 23,
   "metadata": {},
   "outputs": [
    {
     "data": {
      "text/plain": [
       "' VIT/Acad/2018-2019/004      05-07-2018 CIRCULAR Additional Learning Œ reg Ref: Circular VIT/ACAD/Winter/2017-2018/151 dt. 18-12-2017  The following are the revised norms and modalities to be followed to claim/award marks for additional learning. This comes into effect from Fall Semester 2018-2019 until further notice. This circular overrides the norms stated in the circular referred above.  Marks for Additional Learning is applicable to the following course types: TH, LO, ETL, ETP, ELP and ETLP. However, additional learning component is not applicable for Soft Skills, TARP, LSM, IIP and project only courses.  On-line courses: 1. The course faculty will provide information on the online course(s) related to the registered course. Only these ‚faculty approved™ courses should be considered for marks. 2. Minimum duration of the online course should be three weeks or 10 hours, depending on the course. 3. Documents related to course completion, assessment and certificate should be uploaded as a single file in V-TOP 4. If the Course Certificate is uploaded, then one-tenth of the percentage of marks obtained in the course assessment should be given (For example, if a student obtains 85% in the assessment, then 8.5 (out of 10) can be given). 5. If the Course Certificate is not uploaded, but the evidence for course completion and assessment is uploaded then 2 (two) marks can be given irrespective of the marks obtained in the course assessment.  Publication: 1. Publication of research paper or review article in a Scopus indexed journal is considered for additional learning.  2. Conference presentations are also considered. 3. The student should be the first author and the course faculty should be the corresponding author. Additional authors are not permitted. 4. The following are the guidelines for awarding marks related to publication: a. 10 Marks Œ Acceptance of article in peer-reviewed Scopus indexed journals b. 6 Marks Œ Oral presentation in Conferences c. 4 Marks Œ Poster presentation in Conferences d. 2 Marks Œ Article submitted for consideration to peer-reviewed Scopus indexed journals (only one article will be considered) 5. Combinations of the above are not permitted (Example: One oral presentation and one poster presentation in conference amounting to 10 Marks (6 Marks + 4 Marks) should not be considered)    '"
      ]
     },
     "execution_count": 23,
     "metadata": {},
     "output_type": "execute_result"
    }
   ],
   "source": [
    "raw"
   ]
  },
  {
   "cell_type": "code",
   "execution_count": 24,
   "metadata": {},
   "outputs": [],
   "source": [
    "content=raw"
   ]
  },
  {
   "cell_type": "code",
   "execution_count": 25,
   "metadata": {},
   "outputs": [
    {
     "data": {
      "text/plain": [
       "[['CIRCULAR Additional Learning Œ reg Ref: Circular VIT/ACAD/Winter/2017-2018/151 dt'],\n",
       " [40],\n",
       " [257.3326721191406]]"
      ]
     },
     "execution_count": 25,
     "metadata": {},
     "output_type": "execute_result"
    }
   ],
   "source": [
    "model([content], [query])"
   ]
  },
  {
   "cell_type": "code",
   "execution_count": null,
   "metadata": {},
   "outputs": [],
   "source": []
  },
  {
   "cell_type": "code",
   "execution_count": 26,
   "metadata": {},
   "outputs": [],
   "source": [
    "quit(browser)"
   ]
  },
  {
   "cell_type": "code",
   "execution_count": null,
   "metadata": {},
   "outputs": [],
   "source": []
  }
 ],
 "metadata": {
  "kernelspec": {
   "display_name": "Python 3",
   "language": "python",
   "name": "python3"
  },
  "language_info": {
   "codemirror_mode": {
    "name": "ipython",
    "version": 3
   },
   "file_extension": ".py",
   "mimetype": "text/x-python",
   "name": "python",
   "nbconvert_exporter": "python",
   "pygments_lexer": "ipython3",
   "version": "3.7.3"
  }
 },
 "nbformat": 4,
 "nbformat_minor": 2
}
