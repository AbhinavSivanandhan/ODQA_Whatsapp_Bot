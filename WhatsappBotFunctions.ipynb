{
 "cells": [
  {
   "cell_type": "code",
   "execution_count": 12,
   "metadata": {},
   "outputs": [],
   "source": [
    "from selenium import webdriver as wd\n",
    "from selenium.webdriver.common.keys import Keys\n",
    "from PIL import Image\n",
    "import time\n",
    "\n",
    "def getQr(browser):\n",
    "    print('\\n--Wait for qr image--\\n')\n",
    "    browser.save_screenshot('qr.png')\n",
    "    Image.open('qr.png').show()\n",
    "    tem = input('Press enter if scanned.')\n",
    "\n",
    "def start():\n",
    "    options = wd.FirefoxOptions()\n",
    "    options.headless = True\n",
    "    driver = wd.Firefox(options=options, executable_path=r'geckodriver')\n",
    "    driver.get('https://web.whatsapp.com')\n",
    "    return driver\n",
    "\n",
    "def sNS(name,driver):\n",
    "    s_bar = driver.find_element_by_tag_name('input')\n",
    "    s_bar.click()\n",
    "    s_bar.send_keys(name)\n",
    "    time.sleep(1)\n",
    "    #pane_side = driver.find_element_by_id('pane-side')\n",
    "    c_name = driver.find_element_by_xpath('//*[@id=\"pane-side\"]/div/div/div/div').get_attribute('class')\n",
    "    l = driver.find_elements_by_class_name(c_name)\n",
    "    tem = 0\n",
    "    f = l[0]\n",
    "    for i in l:\n",
    "        k = i.value_of_css_property('transform')\n",
    "        tem2 = int(k[k.rfind(',')+2:-1])\n",
    "        if  tem2 < tem and tem2 > 0:\n",
    "            f = i\n",
    "    i.click()\n",
    "##    f=0\n",
    "##    for i in l:\n",
    "##        if name.lower() in str(i.get_attribute('title')).lower():\n",
    "##            i.click()\n",
    "##            f=1\n",
    "##            break\n",
    "##    if f is 0:\n",
    "##        print('Contact not found.')\n",
    "\n",
    "def recentSent(brow):\n",
    "    main = brow.find_element_by_id('main')\n",
    "    l = main.find_elements_by_class_name('message-out')\n",
    "    xl = [i.get_attribute('innerText') for i in l]\n",
    "    return xl\n",
    "\n",
    "def recentRcvd(brow):\n",
    "    main = brow.find_element_by_id('main')\n",
    "    l = main.find_elements_by_class_name('message-in')\n",
    "    xl = [i.get_attribute('innerText') for i in l]\n",
    "    return xl[len(xl)-2]\n",
    "\n",
    "def lastSent(brow):\n",
    "    main = brow.find_element_by_id('main')\n",
    "    l = main.find_elements_by_class_name('message-out')\n",
    "    try:\n",
    "        return l[-1].get_attribute('innerText')\n",
    "    except:\n",
    "        return ''\n",
    "\n",
    "def lastRcvd(brow):\n",
    "    main = brow.find_element_by_id('main')\n",
    "    l = main.find_elements_by_class_name('message-in')\n",
    "    try:\n",
    "        return l[-1].get_attribute('innerText')\n",
    "    except:\n",
    "        return ''\n",
    "\n",
    "def untilNew(brow,last):\n",
    "    last_chk = lastRcvd(brow)\n",
    "    if last_chk == last:\n",
    "        while last_chk == last:\n",
    "            time.sleep(2)\n",
    "            last_chk = lastRcvd(brow)\n",
    "    log = open('log.txt','a+')\n",
    "    log.write('[rcvd '+last_chk.split('\\n')[1]+']'+last_chk.split('\\n')[0]+'\\n')\n",
    "    log.close()\n",
    "    return last_chk\n",
    "\n",
    "def sendMsg(msg,driver):\n",
    "    input_area = driver.find_element_by_xpath(\"//*[contains(text(), 'Type a message')]\")\n",
    "    input_area = input_area.find_element_by_xpath(\"following-sibling::*\")\n",
    "    input_area.click()\n",
    "    input_area.send_keys(msg,Keys.ENTER)\n",
    "    msg = lastSent(driver)\n",
    "    log = open('log.txt','a+')\n",
    "    log.write('[sent '+msg.split('\\n')[1]+']'+msg.split('\\n')[0]+'\\n')\n",
    "    log.close()\n",
    "\n",
    "def quit(brow):\n",
    "    brow.quit()\n",
    "##browser = start()\n",
    "##getQr(browser)\n",
    "##namae = input('Enter contact name: ').lower()\n",
    "##sNS(namae, browser)\n",
    "##print('last sent: ',lastSent(browser))\n",
    "##print('last recieved: ',lastRcvd(browser))\n",
    "##sendMsg('new test',browser)\n",
    "##print('last sent: ',lastSent(browser))\n",
    "##i=1\n",
    "##quit(browser)\n",
    "##while True:\n",
    "##    l = lastRcvd(browser)\n",
    "##    print('main:',l)\n",
    "##    s = untilNew(browser,l)\n",
    "##    sendMsg(str(i),browser)\n",
    "##    i+=1\n",
    "\n"
   ]
  },
  {
   "cell_type": "code",
   "execution_count": null,
   "metadata": {},
   "outputs": [],
   "source": []
  },
  {
   "cell_type": "code",
   "execution_count": 2,
   "metadata": {},
   "outputs": [],
   "source": [
    "browser = start()"
   ]
  },
  {
   "cell_type": "code",
   "execution_count": 3,
   "metadata": {},
   "outputs": [
    {
     "name": "stdout",
     "output_type": "stream",
     "text": [
      "\n",
      "--Wait for qr image--\n",
      "\n",
      "Press enter if scanned.\n"
     ]
    }
   ],
   "source": [
    "getQr(browser)"
   ]
  },
  {
   "cell_type": "code",
   "execution_count": 4,
   "metadata": {},
   "outputs": [
    {
     "name": "stdout",
     "output_type": "stream",
     "text": [
      "Enter contact name: Amma Jio\n"
     ]
    }
   ],
   "source": [
    "namae = input('Enter contact name: ').lower()"
   ]
  },
  {
   "cell_type": "code",
   "execution_count": 5,
   "metadata": {},
   "outputs": [],
   "source": [
    "sNS(namae, browser)"
   ]
  },
  {
   "cell_type": "code",
   "execution_count": 6,
   "metadata": {},
   "outputs": [
    {
     "name": "stdout",
     "output_type": "stream",
     "text": [
      "last sent:  \n"
     ]
    }
   ],
   "source": [
    "print('last sent: ',lastSent(browser))"
   ]
  },
  {
   "cell_type": "code",
   "execution_count": 7,
   "metadata": {},
   "outputs": [
    {
     "name": "stdout",
     "output_type": "stream",
     "text": [
      "last recieved:  11:25 PM\n"
     ]
    }
   ],
   "source": [
    "print('last recieved: ',lastRcvd(browser))"
   ]
  },
  {
   "cell_type": "code",
   "execution_count": 8,
   "metadata": {},
   "outputs": [],
   "source": [
    "sendMsg('Hello',browser)"
   ]
  },
  {
   "cell_type": "code",
   "execution_count": 9,
   "metadata": {},
   "outputs": [
    {
     "name": "stdout",
     "output_type": "stream",
     "text": [
      "last sent:  \n"
     ]
    }
   ],
   "source": [
    "print('last sent: ',lastSent(browser))"
   ]
  },
  {
   "cell_type": "code",
   "execution_count": 10,
   "metadata": {},
   "outputs": [],
   "source": [
    "i=1"
   ]
  },
  {
   "cell_type": "code",
   "execution_count": 11,
   "metadata": {},
   "outputs": [
    {
     "name": "stdout",
     "output_type": "stream",
     "text": [
      "main: 11:25 PM\n",
      "main: hii\n",
      "10:10 PM\n",
      "main: 1\n",
      "10:11 PM\n",
      "main: 2\n",
      "10:11 PM\n",
      "main: 3\n",
      "10:11 PM\n",
      "main: 5\n",
      "10:11 PM\n"
     ]
    },
    {
     "ename": "KeyboardInterrupt",
     "evalue": "",
     "output_type": "error",
     "traceback": [
      "\u001b[1;31m---------------------------------------------------------------------------\u001b[0m",
      "\u001b[1;31mKeyboardInterrupt\u001b[0m                         Traceback (most recent call last)",
      "\u001b[1;32m<ipython-input-11-97588c71db8d>\u001b[0m in \u001b[0;36m<module>\u001b[1;34m\u001b[0m\n\u001b[0;32m      2\u001b[0m     \u001b[0ml\u001b[0m \u001b[1;33m=\u001b[0m \u001b[0mlastRcvd\u001b[0m\u001b[1;33m(\u001b[0m\u001b[0mbrowser\u001b[0m\u001b[1;33m)\u001b[0m\u001b[1;33m\u001b[0m\u001b[1;33m\u001b[0m\u001b[0m\n\u001b[0;32m      3\u001b[0m     \u001b[0mprint\u001b[0m\u001b[1;33m(\u001b[0m\u001b[1;34m'main:'\u001b[0m\u001b[1;33m,\u001b[0m\u001b[0ml\u001b[0m\u001b[1;33m)\u001b[0m\u001b[1;33m\u001b[0m\u001b[1;33m\u001b[0m\u001b[0m\n\u001b[1;32m----> 4\u001b[1;33m     \u001b[0ms\u001b[0m \u001b[1;33m=\u001b[0m \u001b[0muntilNew\u001b[0m\u001b[1;33m(\u001b[0m\u001b[0mbrowser\u001b[0m\u001b[1;33m,\u001b[0m\u001b[0ml\u001b[0m\u001b[1;33m)\u001b[0m\u001b[1;33m\u001b[0m\u001b[1;33m\u001b[0m\u001b[0m\n\u001b[0m\u001b[0;32m      5\u001b[0m     \u001b[0msendMsg\u001b[0m\u001b[1;33m(\u001b[0m\u001b[0mstr\u001b[0m\u001b[1;33m(\u001b[0m\u001b[0mi\u001b[0m\u001b[1;33m)\u001b[0m\u001b[1;33m,\u001b[0m\u001b[0mbrowser\u001b[0m\u001b[1;33m)\u001b[0m\u001b[1;33m\u001b[0m\u001b[1;33m\u001b[0m\u001b[0m\n\u001b[0;32m      6\u001b[0m     \u001b[0mi\u001b[0m\u001b[1;33m+=\u001b[0m\u001b[1;36m1\u001b[0m\u001b[1;33m\u001b[0m\u001b[1;33m\u001b[0m\u001b[0m\n",
      "\u001b[1;32m<ipython-input-1-c3832664bd2c>\u001b[0m in \u001b[0;36muntilNew\u001b[1;34m(brow, last)\u001b[0m\n\u001b[0;32m     74\u001b[0m     \u001b[1;32mif\u001b[0m \u001b[0mlast_chk\u001b[0m \u001b[1;33m==\u001b[0m \u001b[0mlast\u001b[0m\u001b[1;33m:\u001b[0m\u001b[1;33m\u001b[0m\u001b[1;33m\u001b[0m\u001b[0m\n\u001b[0;32m     75\u001b[0m         \u001b[1;32mwhile\u001b[0m \u001b[0mlast_chk\u001b[0m \u001b[1;33m==\u001b[0m \u001b[0mlast\u001b[0m\u001b[1;33m:\u001b[0m\u001b[1;33m\u001b[0m\u001b[1;33m\u001b[0m\u001b[0m\n\u001b[1;32m---> 76\u001b[1;33m             \u001b[0mtime\u001b[0m\u001b[1;33m.\u001b[0m\u001b[0msleep\u001b[0m\u001b[1;33m(\u001b[0m\u001b[1;36m2\u001b[0m\u001b[1;33m)\u001b[0m\u001b[1;33m\u001b[0m\u001b[1;33m\u001b[0m\u001b[0m\n\u001b[0m\u001b[0;32m     77\u001b[0m             \u001b[0mlast_chk\u001b[0m \u001b[1;33m=\u001b[0m \u001b[0mlastRcvd\u001b[0m\u001b[1;33m(\u001b[0m\u001b[0mbrow\u001b[0m\u001b[1;33m)\u001b[0m\u001b[1;33m\u001b[0m\u001b[1;33m\u001b[0m\u001b[0m\n\u001b[0;32m     78\u001b[0m     \u001b[0mlog\u001b[0m \u001b[1;33m=\u001b[0m \u001b[0mopen\u001b[0m\u001b[1;33m(\u001b[0m\u001b[1;34m'log.txt'\u001b[0m\u001b[1;33m,\u001b[0m\u001b[1;34m'a+'\u001b[0m\u001b[1;33m)\u001b[0m\u001b[1;33m\u001b[0m\u001b[1;33m\u001b[0m\u001b[0m\n",
      "\u001b[1;31mKeyboardInterrupt\u001b[0m: "
     ]
    }
   ],
   "source": [
    "while True:\n",
    "    l = lastRcvd(browser)\n",
    "    print('main:',l)\n",
    "    s = untilNew(browser,l)\n",
    "    sendMsg(str(i),browser)\n",
    "    i+=1\n",
    "\n",
    "    "
   ]
  },
  {
   "cell_type": "code",
   "execution_count": null,
   "metadata": {},
   "outputs": [],
   "source": [
    "quit(browser)"
   ]
  },
  {
   "cell_type": "code",
   "execution_count": null,
   "metadata": {},
   "outputs": [],
   "source": []
  }
 ],
 "metadata": {
  "kernelspec": {
   "display_name": "Python 3",
   "language": "python",
   "name": "python3"
  },
  "language_info": {
   "codemirror_mode": {
    "name": "ipython",
    "version": 3
   },
   "file_extension": ".py",
   "mimetype": "text/x-python",
   "name": "python",
   "nbconvert_exporter": "python",
   "pygments_lexer": "ipython3",
   "version": "3.7.3"
  }
 },
 "nbformat": 4,
 "nbformat_minor": 2
}
